{
 "cells": [
  {
   "cell_type": "markdown",
   "metadata": {},
   "source": [
    "# Vassoura quickstart"
   ]
  },
  {
   "cell_type": "code",
   "execution_count": null,
   "metadata": {},
   "outputs": [],
   "source": [
    "import pandas as pd\n",
    "from vassoura import Vassoura\n",
    "\n",
    "df = pd.DataFrame({'a': [1,2,3], 'b':[0,1,0], 'target':[0,1,0]})\n",
    "v = Vassoura(target_col='target')\n",
    "v.fit(df)\n",
    "print(v.get_feature_ranking())"
   ]
  }
 ],
 "metadata": {
  "kernelspec": {
   "display_name": "Python 3",
   "language": "python",
   "name": "python3"
  },
  "language_info": {
   "name": "python",
   "version": "3"
  }
 },
 "nbformat": 4,
 "nbformat_minor": 5
}
