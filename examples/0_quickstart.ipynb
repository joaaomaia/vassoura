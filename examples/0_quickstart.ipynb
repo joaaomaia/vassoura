{
 "cells": [
  {
   "cell_type": "markdown",
   "metadata": {},
   "source": "# Vassoura quickstart"
  },
  {
   "cell_type": "code",
   "metadata": {},
   "source": "import pandas as pd\nfrom vassoura import Vassoura\n\ndf = pd.DataFrame({'a': [1,2,3], 'b':[0,1,0], 'target':[0,1,0]})\nv = Vassoura(target_col='target')\nv.fit(df)\nprint(v.get_feature_ranking())"
  }
 ],
 "metadata": {
  "kernelspec": {
   "display_name": "Python 3",
   "language": "python",
   "name": "python3"
  },
  "language_info": {
   "name": "python",
   "version": "3"
  }
 },
 "nbformat": 4,
 "nbformat_minor": 5
}
