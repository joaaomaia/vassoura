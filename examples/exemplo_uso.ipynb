{
 "cells": [
  {
   "cell_type": "markdown",
   "metadata": {},
   "source": [
    "# Exemplo de Uso – Vassoura \n",
    "\n",
    "Este notebook mostra como utilizar as principais funcionalidades do pacote `vassoura` para detectar e limpar multicolinearidade, além de gerar relatórios visuais."
   ]
  },
  {
   "cell_type": "code",
   "execution_count": null,
   "metadata": {},
   "outputs": [],
   "source": [
    "import numpy as np\n",
    "import pandas as pd\n",
    "import vassoura as vs"
   ]
  },
  {
   "cell_type": "markdown",
   "metadata": {},
   "source": [
    "## Criando um DataFrame de exemplo com colinearidade artificial"
   ]
  },
  {
   "cell_type": "code",
   "execution_count": null,
   "metadata": {},
   "outputs": [],
   "source": [
    "rng = np.random.default_rng(42)\n",
    "n = 300\n",
    "df = pd.DataFrame({\n",
    "    'x1': rng.normal(0, 1, n),\n",
    "})\n",
    "df['x2'] = df['x1'] * 0.95 + rng.normal(0, 0.05, n)\n",
    "df['x3'] = rng.normal(0, 1, n)\n",
    "df['cat'] = rng.choice(['A', 'B', 'C'], size=n)\n",
    "df['target'] = ((df['x1'] + df['x3']) > 0).astype(int)\n",
    "df.head()"
   ]
  },
  {
   "cell_type": "markdown",
   "metadata": {},
   "source": [
    "## Detectando e limpando multicolinearidade"
   ]
  },
  {
   "cell_type": "code",
   "execution_count": null,
   "metadata": {},
   "outputs": [],
   "source": [
    "df_limpo, removidas, matriz_corr, vif_df = vs.clean_multicollinearity(\n",
    "    df,\n",
    "    target_col='target',\n",
    "    include_target=False,\n",
    "    keep_cols=['x1'],\n",
    "    corr_threshold=0.9,\n",
    "    vif_threshold=5,\n",
    "    verbose=True\n",
    ")"
   ]
  },
  {
   "cell_type": "code",
   "execution_count": null,
   "metadata": {},
   "outputs": [],
   "source": [
    "print('Variáveis removidas:', removidas)"
   ]
  },
  {
   "cell_type": "markdown",
   "metadata": {},
   "source": [
    "## Geração de relatório com gráficos e análise com/sem target"
   ]
  },
  {
   "cell_type": "code",
   "execution_count": null,
   "metadata": {},
   "outputs": [],
   "source": [
    "vs.generate_report(df, target_col='target', output_path='vassoura_report.html')"
   ]
  },
  {
   "cell_type": "markdown",
   "metadata": {},
   "source": [
    "Abra o arquivo `vassoura_report.html` para visualizar o relatório gerado."
   ]
  }
 ],
 "metadata": {
  "kernelspec": {
   "display_name": "Python 3",
   "language": "python",
   "name": "python3"
  },
  "language_info": {
   "name": "python",
   "version": "3.11"
  }
 },
 "nbformat": 4,
 "nbformat_minor": 5
}
