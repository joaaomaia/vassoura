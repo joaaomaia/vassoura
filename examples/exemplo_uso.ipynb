{
 "cells": [
  {
   "cell_type": "markdown",
   "metadata": {},
   "source": [
    "# Exemplo de Uso – Vassoura \n",
    "\n",
    "Este notebook mostra como utilizar as principais funcionalidades do pacote `vassoura` para detectar e limpar multicolinearidade, além de gerar relatórios visuais."
   ]
  },
  {
   "cell_type": "code",
   "execution_count": 1,
   "metadata": {},
   "outputs": [],
   "source": [
    "import numpy as np\n",
    "import pandas as pd\n",
    "import vassoura as vs\n",
    "import matplotlib.pyplot as plt\n",
    "import seaborn as sns"
   ]
  },
  {
   "cell_type": "markdown",
   "metadata": {},
   "source": [
    "## Criando um DataFrame de exemplo com colinearidade artificial"
   ]
  },
  {
   "cell_type": "code",
   "execution_count": 2,
   "metadata": {},
   "outputs": [
    {
     "data": {
      "text/html": [
       "<div>\n",
       "<style scoped>\n",
       "    .dataframe tbody tr th:only-of-type {\n",
       "        vertical-align: middle;\n",
       "    }\n",
       "\n",
       "    .dataframe tbody tr th {\n",
       "        vertical-align: top;\n",
       "    }\n",
       "\n",
       "    .dataframe thead th {\n",
       "        text-align: right;\n",
       "    }\n",
       "</style>\n",
       "<table border=\"1\" class=\"dataframe\">\n",
       "  <thead>\n",
       "    <tr style=\"text-align: right;\">\n",
       "      <th></th>\n",
       "      <th>x1</th>\n",
       "      <th>x2</th>\n",
       "      <th>x3</th>\n",
       "      <th>cat</th>\n",
       "      <th>target</th>\n",
       "    </tr>\n",
       "  </thead>\n",
       "  <tbody>\n",
       "    <tr>\n",
       "      <th>0</th>\n",
       "      <td>0.304717</td>\n",
       "      <td>0.298295</td>\n",
       "      <td>-1.658201</td>\n",
       "      <td>C</td>\n",
       "      <td>0</td>\n",
       "    </tr>\n",
       "    <tr>\n",
       "      <th>1</th>\n",
       "      <td>-1.039984</td>\n",
       "      <td>-0.943029</td>\n",
       "      <td>0.891207</td>\n",
       "      <td>C</td>\n",
       "      <td>0</td>\n",
       "    </tr>\n",
       "    <tr>\n",
       "      <th>2</th>\n",
       "      <td>0.750451</td>\n",
       "      <td>0.639315</td>\n",
       "      <td>-0.058032</td>\n",
       "      <td>C</td>\n",
       "      <td>1</td>\n",
       "    </tr>\n",
       "    <tr>\n",
       "      <th>3</th>\n",
       "      <td>0.940565</td>\n",
       "      <td>0.879272</td>\n",
       "      <td>-0.599909</td>\n",
       "      <td>B</td>\n",
       "      <td>1</td>\n",
       "    </tr>\n",
       "    <tr>\n",
       "      <th>4</th>\n",
       "      <td>-1.951035</td>\n",
       "      <td>-1.812026</td>\n",
       "      <td>-0.250818</td>\n",
       "      <td>B</td>\n",
       "      <td>0</td>\n",
       "    </tr>\n",
       "  </tbody>\n",
       "</table>\n",
       "</div>"
      ],
      "text/plain": [
       "         x1        x2        x3 cat  target\n",
       "0  0.304717  0.298295 -1.658201   C       0\n",
       "1 -1.039984 -0.943029  0.891207   C       0\n",
       "2  0.750451  0.639315 -0.058032   C       1\n",
       "3  0.940565  0.879272 -0.599909   B       1\n",
       "4 -1.951035 -1.812026 -0.250818   B       0"
      ]
     },
     "execution_count": 2,
     "metadata": {},
     "output_type": "execute_result"
    }
   ],
   "source": [
    "rng = np.random.default_rng(42)\n",
    "n = 10000\n",
    "df = pd.DataFrame({\n",
    "    'x1': rng.normal(0, 1, n),\n",
    "})\n",
    "df['x2'] = df['x1'] * 0.95 + rng.normal(0, 0.05, n)\n",
    "df['x3'] = rng.normal(0, 1, n)\n",
    "df['cat'] = rng.choice(['A', 'B', 'C'], size=n)\n",
    "df['target'] = ((df['x1'] + df['x3']) > 0).astype(int)\n",
    "df.head()"
   ]
  },
  {
   "cell_type": "markdown",
   "metadata": {},
   "source": [
    "## Detectando e limpando multicolinearidade"
   ]
  },
  {
   "cell_type": "code",
   "execution_count": 3,
   "metadata": {},
   "outputs": [
    {
     "name": "stderr",
     "output_type": "stream",
     "text": [
      "INFO | x1 -> numérica\n",
      "INFO | x2 -> numérica\n",
      "INFO | x3 -> numérica\n",
      "INFO | cat -> categórica (3 categorias)\n",
      "INFO | Método de correlação sugerido: spearman\n",
      "INFO | Matriz de correlação spearman calculada para 3 variáveis numéricas\n",
      "INFO | Encontrados 1 pares com |corr| > 0.90\n",
      "INFO | Removendo 'x2' devido a |corr|=0.998 com 'x1'\n",
      "INFO | x1 -> numérica\n",
      "INFO | x3 -> numérica\n",
      "INFO | cat -> categórica (3 categorias)\n",
      "INFO | VIF calculado para 2 variáveis\n",
      "INFO | Iteração 1: nenhum VIF > 10.00 restante\n",
      "INFO | x1 -> numérica\n",
      "INFO | x3 -> numérica\n",
      "INFO | cat -> categórica (3 categorias)\n",
      "INFO | VIF calculado para 2 variáveis\n"
     ]
    }
   ],
   "source": [
    "df_limpo, removidas, matriz_corr, vif_df = vs.clean(\n",
    "    df,\n",
    "    target_col='target',\n",
    "    include_target=False,\n",
    "    keep_cols=['x1'],\n",
    "    corr_threshold=0.9,\n",
    "    vif_threshold=10,\n",
    "    verbose=True\n",
    ")"
   ]
  },
  {
   "cell_type": "code",
   "execution_count": 4,
   "metadata": {},
   "outputs": [
    {
     "name": "stdout",
     "output_type": "stream",
     "text": [
      "Variáveis removidas: ['x2']\n"
     ]
    }
   ],
   "source": [
    "print('Variáveis removidas:', removidas)"
   ]
  },
  {
   "cell_type": "markdown",
   "metadata": {},
   "source": [
    "## Visualizando VIF das variáveis remanescentes"
   ]
  },
  {
   "cell_type": "code",
   "execution_count": 5,
   "metadata": {},
   "outputs": [
    {
     "data": {
      "image/png": "[encoded data removed]",
      "text/plain": [
       "<Figure size 640x480 with 1 Axes>"
      ]
     },
     "metadata": {},
     "output_type": "display_data"
    }
   ],
   "source": [
    "sns.barplot(data=vif_df, y='variable', x='vif', orient='h')\n",
    "plt.title('VIF das variáveis remanescentes')\n",
    "for i, row in vif_df.iterrows():\n",
    "    plt.text(row['vif'] + 0.1, i, f\"{row['vif']:.2f}\", va='center')\n",
    "plt.xlabel('VIF')\n",
    "plt.ylabel('Variável')\n",
    "plt.xlim(0, max(vif_df['vif']) + 2)\n",
    "plt.tight_layout()\n",
    "plt.show()"
   ]
  },
  {
   "cell_type": "markdown",
   "metadata": {},
   "source": [
    "## Geração de relatório com gráficos e análise com/sem target\n",
    "O relatório indicará automaticamente o método de correlação aplicado."
   ]
  },
  {
   "cell_type": "code",
   "execution_count": null,
   "metadata": {},
   "outputs": [
    {
     "name": "stderr",
     "output_type": "stream",
     "text": [
      "INFO | x1 -> numérica\n",
      "INFO | x2 -> numérica\n",
      "INFO | x3 -> numérica\n",
      "INFO | cat -> categórica (3 categorias)\n",
      "INFO | x1 -> numérica\n",
      "INFO | x2 -> numérica\n",
      "INFO | x3 -> numérica\n",
      "INFO | cat -> categórica (3 categorias)\n",
      "INFO | Matriz de correlação spearman calculada para 3 variáveis numéricas\n",
      "INFO | x1 -> numérica\n",
      "INFO | x2 -> numérica\n",
      "INFO | x3 -> numérica\n",
      "INFO | cat -> categórica (3 categorias)\n",
      "INFO | VIF calculado para 3 variáveis\n",
      "INFO | x1 -> numérica\n",
      "INFO | x2 -> numérica\n",
      "INFO | x3 -> numérica\n",
      "INFO | cat -> categórica (3 categorias)\n",
      "INFO | Matriz de correlação spearman calculada para 3 variáveis numéricas\n",
      "INFO | Encontrados 1 pares com |corr| > 0.90\n",
      "INFO | Removendo 'x2' devido a |corr|=0.998 com 'x1'\n",
      "INFO | x1 -> numérica\n",
      "INFO | x3 -> numérica\n",
      "INFO | cat -> categórica (3 categorias)\n",
      "INFO | VIF calculado para 2 variáveis\n",
      "INFO | Iteração 1: nenhum VIF > 10.00 restante\n",
      "INFO | x1 -> numérica\n",
      "INFO | x3 -> numérica\n",
      "INFO | cat -> categórica (3 categorias)\n",
      "INFO | VIF calculado para 2 variáveis\n",
      "INFO | Relatório gerado em vassoura_report.html\n"
     ]
    },
    {
     "data": {
      "text/plain": [
       "'vassoura_report.html'"
      ]
     },
     "execution_count": 6,
     "metadata": {},
     "output_type": "execute_result"
    }
   ],
   "source": [
    "vs.generate_report(\n",
    "    df,\n",
    "    target_col='target',\n",
    "    output_path='vassoura_report.html'\n",
    ")"
   ]
  },
  {
   "cell_type": "markdown",
   "metadata": {},
   "source": [
    "Abra o arquivo `vassoura_report.html` para visualizar o relatório gerado com:\n",
    "- Tipos de variáveis\n",
    "- Matrizes de correlação (com e sem target)\n",
    "- VIF (em tabela e gráfico)\n",
    "- Método de correlação aplicado"
   ]
  }
 ],
 "metadata": {
  "kernelspec": {
   "display_name": "ENV_STONE",
   "language": "python",
   "name": "python3"
  },
  "language_info": {
   "codemirror_mode": {
    "name": "ipython",
    "version": 3
   },
   "file_extension": ".py",
   "mimetype": "text/x-python",
   "name": "python",
   "nbconvert_exporter": "python",
   "pygments_lexer": "ipython3",
   "version": "3.10.16"
  }
 },
 "nbformat": 4,
 "nbformat_minor": 5
}
