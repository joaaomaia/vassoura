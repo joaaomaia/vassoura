{
 "cells": [
  {
   "cell_type": "code",
   "execution_count": 1,
   "id": "a22a8457",
   "metadata": {},
   "outputs": [],
   "source": [
    "# benchmark_vassoura.ipynb – Comparação entre versão modular (VassouraSession)\n",
    "# e abordagem direta com recomputação completa\n",
    "\n",
    "#%load_ext autoreload\n",
    "#%autoreload 2\n",
    "%reload_ext autoreload\n",
    "\n",
    "import pandas as pd\n",
    "import numpy as np\n",
    "import time\n",
    "\n",
    "from vassoura.core import VassouraSession\n",
    "\n",
    "# Gerar dataset sintético grande\n",
    "np.random.seed(42)\n",
    "n = 1_000_000\n",
    "X = pd.DataFrame({\n",
    "    f\"x{i}\": np.random.randn(n) for i in range(15)\n",
    "})\n",
    "\n",
    "# Introduzir correlações artificiais\n",
    "X[\"x1\"] = X[\"x0\"] * 0.9 + np.random.normal(0, 0.1, n)\n",
    "X[\"x2\"] = X[\"x0\"] * 0.8 + X[\"x1\"] * 0.1\n",
    "X[\"x3\"] = X[\"x4\"] * 0.9 + np.random.normal(0, 0.05, n)\n",
    "\n",
    "# Adicionar coluna target binária\n",
    "X[\"target\"] = (X[\"x0\"] + np.random.randn(n) > 0).astype(int)"
   ]
  },
  {
   "cell_type": "code",
   "execution_count": 3,
   "id": "c791058d",
   "metadata": {},
   "outputs": [
    {
     "name": "stdout",
     "output_type": "stream",
     "text": [
      "[Vassoura] Graph-cut heuristic (thr=0.9)\n"
     ]
    },
    {
     "name": "stderr",
     "output_type": "stream",
     "text": [
      "INFO | x2 -> numérica\n",
      "INFO | x4 -> numérica\n",
      "INFO | x5 -> numérica\n",
      "INFO | x6 -> numérica\n",
      "INFO | x7 -> numérica\n",
      "INFO | x8 -> numérica\n",
      "INFO | x9 -> numérica\n",
      "INFO | x10 -> numérica\n",
      "INFO | x11 -> numérica\n",
      "INFO | x12 -> numérica\n",
      "INFO | x13 -> numérica\n",
      "INFO | x14 -> numérica\n",
      "INFO | Método de correlação sugerido: pearson\n"
     ]
    },
    {
     "name": "stdout",
     "output_type": "stream",
     "text": [
      "  → dropped ['x0', 'x1', 'x3'] (graph_cut>0.9)\n",
      "[Vassoura] Corr heuristic (thr=0.85)\n"
     ]
    },
    {
     "name": "stderr",
     "output_type": "stream",
     "text": [
      "INFO | Matriz de correlação pearson calculada para 12 variáveis numéricas\n",
      "INFO | x2 -> numérica\n",
      "INFO | x4 -> numérica\n",
      "INFO | x5 -> numérica\n",
      "INFO | x6 -> numérica\n",
      "INFO | x7 -> numérica\n",
      "INFO | x8 -> numérica\n",
      "INFO | x9 -> numérica\n",
      "INFO | x10 -> numérica\n",
      "INFO | x11 -> numérica\n",
      "INFO | x12 -> numérica\n",
      "INFO | x13 -> numérica\n",
      "INFO | x14 -> numérica\n"
     ]
    },
    {
     "name": "stdout",
     "output_type": "stream",
     "text": [
      "[Vassoura] VIF heuristic (thr=5)\n"
     ]
    },
    {
     "name": "stderr",
     "output_type": "stream",
     "text": [
      "INFO | VIF calculado para 12 variáveis\n"
     ]
    },
    {
     "name": "stdout",
     "output_type": "stream",
     "text": [
      "[Vassoura] IV heuristic (thr<0.01) – removendo low IV\n",
      "  → dropped ['x4', 'x5', 'x6', 'x7', 'x8', 'x9', 'x10', 'x11', 'x12', 'x13', 'x14'] (iv<0.01)\n",
      "Tempo com recomputação total: 27.73s\n"
     ]
    }
   ],
   "source": [
    "# ------------------------------------------------------------\n",
    "# Abordagem tradicional (recomputa tudo sempre)\n",
    "# ------------------------------------------------------------\n",
    "start = time.time()\n",
    "vs = VassouraSession(\n",
    "    X,\n",
    "    target_col=\"target\",\n",
    "    \n",
    "    heuristics=[\n",
    "        \"graph_cut\",\n",
    "        \"corr\",\n",
    "        \"vif\",\n",
    "        \"iv\",\n",
    "    ],\n",
    "    \n",
    "    thresholds={\n",
    "        \"corr\": 0.85,\n",
    "        \"vif\": 5,\n",
    "        \"iv\": 0.01,\n",
    "        \"graph_cut\": 0.9,   # limiar para graph-cut\n",
    "    },\n",
    ")\n",
    "df_limpo = vs.run(recompute=True)\n",
    "\n",
    "end = time.time()\n",
    "print(f\"Tempo com recomputação total: {end - start:.2f}s\")"
   ]
  },
  {
   "cell_type": "code",
   "execution_count": 5,
   "id": "382d82f5",
   "metadata": {},
   "outputs": [
    {
     "name": "stdout",
     "output_type": "stream",
     "text": [
      "[Vassoura] Graph-cut heuristic (thr=0.9)\n"
     ]
    },
    {
     "name": "stderr",
     "output_type": "stream",
     "text": [
      "INFO | x2 -> numérica\n",
      "INFO | x4 -> numérica\n",
      "INFO | x5 -> numérica\n",
      "INFO | x6 -> numérica\n",
      "INFO | x7 -> numérica\n",
      "INFO | x8 -> numérica\n",
      "INFO | x9 -> numérica\n",
      "INFO | x10 -> numérica\n",
      "INFO | x11 -> numérica\n",
      "INFO | x12 -> numérica\n",
      "INFO | x13 -> numérica\n",
      "INFO | x14 -> numérica\n",
      "INFO | Método de correlação sugerido: pearson\n"
     ]
    },
    {
     "name": "stdout",
     "output_type": "stream",
     "text": [
      "  → dropped ['x0', 'x1', 'x3'] (graph_cut>0.9)\n",
      "[Vassoura] Corr heuristic (thr=0.85)\n"
     ]
    },
    {
     "name": "stderr",
     "output_type": "stream",
     "text": [
      "INFO | Matriz de correlação pearson calculada para 12 variáveis numéricas\n",
      "INFO | x2 -> numérica\n",
      "INFO | x4 -> numérica\n",
      "INFO | x5 -> numérica\n",
      "INFO | x6 -> numérica\n",
      "INFO | x7 -> numérica\n",
      "INFO | x8 -> numérica\n",
      "INFO | x9 -> numérica\n",
      "INFO | x10 -> numérica\n",
      "INFO | x11 -> numérica\n",
      "INFO | x12 -> numérica\n",
      "INFO | x13 -> numérica\n",
      "INFO | x14 -> numérica\n"
     ]
    },
    {
     "name": "stdout",
     "output_type": "stream",
     "text": [
      "[Vassoura] VIF heuristic (thr=5)\n"
     ]
    },
    {
     "name": "stderr",
     "output_type": "stream",
     "text": [
      "INFO | VIF calculado para 12 variáveis\n"
     ]
    },
    {
     "name": "stdout",
     "output_type": "stream",
     "text": [
      "[Vassoura] IV heuristic (thr<0.01) – removendo low IV\n",
      "  → dropped ['x4', 'x5', 'x6', 'x7', 'x8', 'x9', 'x10', 'x11', 'x12', 'x13', 'x14'] (iv<0.01)\n",
      "[Vassoura] Graph-cut heuristic (thr=0.9)\n",
      "[Vassoura] Pulando Graph-cut (só 1 coluna(s) numérica(s)).\n",
      "[Vassoura] Corr heuristic (thr=0.85)\n",
      "[Vassoura] Pulando VIF (col numéricas insuficientes: 1)\n",
      "[Vassoura] IV heuristic (thr<0.01) – removendo low IV\n",
      "  → dropped ['x4', 'x5', 'x6', 'x7', 'x8', 'x9', 'x10', 'x11', 'x12', 'x13', 'x14'] (iv<0.01)\n",
      "[Vassoura] Graph-cut heuristic (thr=0.9)\n",
      "[Vassoura] Pulando Graph-cut (só 1 coluna(s) numérica(s)).\n",
      "[Vassoura] Corr heuristic (thr=0.85)\n",
      "[Vassoura] Pulando VIF (col numéricas insuficientes: 1)\n",
      "[Vassoura] IV heuristic (thr<0.01) – removendo low IV\n",
      "  → dropped ['x4', 'x5', 'x6', 'x7', 'x8', 'x9', 'x10', 'x11', 'x12', 'x13', 'x14'] (iv<0.01)\n",
      "Tempo com reaproveitamento de caches: 25.91s\n"
     ]
    }
   ],
   "source": [
    "# ------------------------------------------------------------\n",
    "# Abordagem incremental com cache\n",
    "# ------------------------------------------------------------\n",
    "vs_cached = VassouraSession(\n",
    "    X,\n",
    "    target_col=\"target\",\n",
    "    heuristics=[\"graph_cut\",\"corr\", \"vif\", \"iv\"],\n",
    "    thresholds={\n",
    "        \"corr\": 0.85,\n",
    "        \"vif\": 5,\n",
    "        \"iv\": 0.01,\n",
    "        \"graph_cut\": 0.9\n",
    "        }\n",
    "    )\n",
    "\n",
    "start = time.time()\n",
    "for _ in range(3):\n",
    "    _ = vs_cached.run(recompute=False)\n",
    "end = time.time()\n",
    "print(f\"Tempo com reaproveitamento de caches: {end - start:.2f}s\")"
   ]
  },
  {
   "cell_type": "code",
   "execution_count": 6,
   "id": "a0e79f2e",
   "metadata": {},
   "outputs": [
    {
     "name": "stdout",
     "output_type": "stream",
     "text": [
      "\n",
      "Colunas removidas: ['x0', 'x1', 'x3', 'x4', 'x5', 'x6', 'x7', 'x8', 'x9', 'x10', 'x11', 'x12', 'x13', 'x14', 'x4', 'x5', 'x6', 'x7', 'x8', 'x9', 'x10', 'x11', 'x12', 'x13', 'x14', 'x4', 'x5', 'x6', 'x7', 'x8', 'x9', 'x10', 'x11', 'x12', 'x13', 'x14']\n",
      "\n",
      "Histórico resumido:\n",
      " - {'cols': ['x0', 'x1', 'x3'], 'reason': 'graph_cut>0.9'}\n",
      " - {'cols': ['x4', 'x5', 'x6', 'x7', 'x8', 'x9', 'x10', 'x11', 'x12', 'x13', 'x14'], 'reason': 'iv<0.01'}\n",
      " - {'cols': ['x4', 'x5', 'x6', 'x7', 'x8', 'x9', 'x10', 'x11', 'x12', 'x13', 'x14'], 'reason': 'iv<0.01'}\n",
      " - {'cols': ['x4', 'x5', 'x6', 'x7', 'x8', 'x9', 'x10', 'x11', 'x12', 'x13', 'x14'], 'reason': 'iv<0.01'}\n"
     ]
    }
   ],
   "source": [
    "# ------------------------------------------------------------\n",
    "# Exibir variáveis removidas e histórico final\n",
    "# ------------------------------------------------------------\n",
    "print(\"\\nColunas removidas:\", vs_cached.dropped)\n",
    "print(\"\\nHistórico resumido:\")\n",
    "for step in vs_cached.history:\n",
    "    print(\" -\", step)\n"
   ]
  },
  {
   "cell_type": "code",
   "execution_count": null,
   "id": "f68a4735",
   "metadata": {},
   "outputs": [],
   "source": [
    "# Agora, em repetições subsequentes, só rodar corr+iv (pulando vif se não restarem variáveis)\n",
    "start = time.time()\n",
    "for _ in range(3):\n",
    "    # Se X estiver com poucas colunas, evitar executar todo verbo \"vif\"\n",
    "    remaining = len(vs_cached.df_current.columns) - 1  # menos alvo\n",
    "    heur = [\"corr\", \"iv\"] if remaining > 1 else [\"corr\"]\n",
    "    vs_cached.heuristics = heur\n",
    "    _ = vs_cached.run(recompute=False)\n",
    "end = time.time()\n",
    "print(f\"Tempo com reaproveitamento de caches (corr+iv): {end - start:.2f}s\")\n"
   ]
  },
  {
   "cell_type": "code",
   "execution_count": null,
   "id": "0ad984ef",
   "metadata": {},
   "outputs": [],
   "source": [
    "\n",
    "# ------------------------------------------------------------\n",
    "# Exibir variáveis removidas e histórico final\n",
    "# ------------------------------------------------------------\n",
    "print(\"\\nColunas removidas:\", vs_cached.dropped)\n",
    "print(\"\\nHistórico resumido:\")\n",
    "for step in vs_cached.history:\n",
    "    print(\" -\", step)"
   ]
  }
 ],
 "metadata": {
  "kernelspec": {
   "display_name": "ENV_STONE",
   "language": "python",
   "name": "python3"
  },
  "language_info": {
   "codemirror_mode": {
    "name": "ipython",
    "version": 3
   },
   "file_extension": ".py",
   "mimetype": "text/x-python",
   "name": "python",
   "nbconvert_exporter": "python",
   "pygments_lexer": "ipython3",
   "version": "3.10.16"
  }
 },
 "nbformat": 4,
 "nbformat_minor": 5
}
