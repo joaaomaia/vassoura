{
 "cells": [
  {
   "cell_type": "markdown",
   "id": "28346615",
   "metadata": {},
   "source": [
    "# Exemplo PD Behavior v2\n",
    "\n",
    "Este notebook demonstra os novos recursos de logs configuráveis e tratamento de datas do pacote `vassoura`. O dataset é o mesmo gerado por `criar_dataset_pd_behavior`."
   ]
  },
  {
   "cell_type": "code",
   "execution_count": 1,
   "id": "bd9b3dfc",
   "metadata": {},
   "outputs": [],
   "source": [
    "import logging\n",
    "import pandas as pd\n",
    "import vassoura as vs\n",
    "\n",
    "logging.basicConfig(level=logging.INFO, format='%(levelname)s | %(message)s')\n",
    "logger = logging.getLogger('vassoura')\n"
   ]
  },
  {
   "cell_type": "code",
   "execution_count": 5,
   "id": "3344984d",
   "metadata": {},
   "outputs": [
    {
     "name": "stdout",
     "output_type": "stream",
     "text": [
      "(24427, 8)\n"
     ]
    },
    {
     "data": {
      "text/html": [
       "<div>\n",
       "<style scoped>\n",
       "    .dataframe tbody tr th:only-of-type {\n",
       "        vertical-align: middle;\n",
       "    }\n",
       "\n",
       "    .dataframe tbody tr th {\n",
       "        vertical-align: top;\n",
       "    }\n",
       "\n",
       "    .dataframe thead th {\n",
       "        text-align: right;\n",
       "    }\n",
       "</style>\n",
       "<table border=\"1\" class=\"dataframe\">\n",
       "  <thead>\n",
       "    <tr style=\"text-align: right;\">\n",
       "      <th></th>\n",
       "      <th>NroContrato</th>\n",
       "      <th>AnoMesReferencia</th>\n",
       "      <th>feature_01</th>\n",
       "      <th>feature_02</th>\n",
       "      <th>feature_03</th>\n",
       "      <th>feature_04</th>\n",
       "      <th>feature_05</th>\n",
       "      <th>ever90m12</th>\n",
       "    </tr>\n",
       "  </thead>\n",
       "  <tbody>\n",
       "    <tr>\n",
       "      <th>0</th>\n",
       "      <td>1</td>\n",
       "      <td>202204</td>\n",
       "      <td>0.214126</td>\n",
       "      <td>-1.951994</td>\n",
       "      <td>-2.054772</td>\n",
       "      <td>-1.757784</td>\n",
       "      <td>-1.113677</td>\n",
       "      <td>0</td>\n",
       "    </tr>\n",
       "    <tr>\n",
       "      <th>1</th>\n",
       "      <td>1</td>\n",
       "      <td>202205</td>\n",
       "      <td>0.552496</td>\n",
       "      <td>-1.293754</td>\n",
       "      <td>-1.844666</td>\n",
       "      <td>-2.965646</td>\n",
       "      <td>0.819647</td>\n",
       "      <td>1</td>\n",
       "    </tr>\n",
       "    <tr>\n",
       "      <th>2</th>\n",
       "      <td>1</td>\n",
       "      <td>202206</td>\n",
       "      <td>0.219811</td>\n",
       "      <td>-0.327643</td>\n",
       "      <td>-1.201772</td>\n",
       "      <td>-2.461436</td>\n",
       "      <td>-0.371924</td>\n",
       "      <td>0</td>\n",
       "    </tr>\n",
       "    <tr>\n",
       "      <th>3</th>\n",
       "      <td>1</td>\n",
       "      <td>202207</td>\n",
       "      <td>-0.062219</td>\n",
       "      <td>-0.840927</td>\n",
       "      <td>-1.605765</td>\n",
       "      <td>-2.998867</td>\n",
       "      <td>0.102530</td>\n",
       "      <td>0</td>\n",
       "    </tr>\n",
       "    <tr>\n",
       "      <th>4</th>\n",
       "      <td>1</td>\n",
       "      <td>202208</td>\n",
       "      <td>0.258488</td>\n",
       "      <td>-0.828640</td>\n",
       "      <td>-1.066425</td>\n",
       "      <td>-2.086359</td>\n",
       "      <td>0.460675</td>\n",
       "      <td>0</td>\n",
       "    </tr>\n",
       "  </tbody>\n",
       "</table>\n",
       "</div>"
      ],
      "text/plain": [
       "   NroContrato  AnoMesReferencia  feature_01  feature_02  feature_03  \\\n",
       "0            1            202204    0.214126   -1.951994   -2.054772   \n",
       "1            1            202205    0.552496   -1.293754   -1.844666   \n",
       "2            1            202206    0.219811   -0.327643   -1.201772   \n",
       "3            1            202207   -0.062219   -0.840927   -1.605765   \n",
       "4            1            202208    0.258488   -0.828640   -1.066425   \n",
       "\n",
       "   feature_04  feature_05  ever90m12  \n",
       "0   -1.757784   -1.113677          0  \n",
       "1   -2.965646    0.819647          1  \n",
       "2   -2.461436   -0.371924          0  \n",
       "3   -2.998867    0.102530          0  \n",
       "4   -2.086359    0.460675          0  "
      ]
     },
     "execution_count": 5,
     "metadata": {},
     "output_type": "execute_result"
    }
   ],
   "source": [
    "df = vs.criar_dataset_pd_behavior(n_clientes=1000, max_anos=3, n_features=5, seed=0)\n",
    "print(df.shape)\n",
    "df.head()"
   ]
  },
  {
   "cell_type": "code",
   "execution_count": 6,
   "id": "ad391cbb",
   "metadata": {},
   "outputs": [
    {
     "name": "stderr",
     "output_type": "stream",
     "text": [
      "INFO | Tipos detectados: 7 numéricas, 0 categóricas\n",
      "INFO | Tipos detectados: 7 numéricas, 0 categóricas\n"
     ]
    },
    {
     "name": "stdout",
     "output_type": "stream",
     "text": [
      "Numéricas: ['NroContrato', 'feature_01', 'feature_02', 'feature_03', 'feature_04', 'feature_05', 'ever90m12']\n",
      "Categóricas: []\n"
     ]
    }
   ],
   "source": [
    "num_cols, cat_cols = vs.search_dtypes(df, date_col=['AnoMesReferencia'], verbose='full')\n",
    "print('Numéricas:', num_cols)\n",
    "print('Categóricas:', cat_cols)"
   ]
  },
  {
   "cell_type": "code",
   "execution_count": 7,
   "id": "b9a7b7c0",
   "metadata": {},
   "outputs": [
    {
     "name": "stderr",
     "output_type": "stream",
     "text": [
      "INFO | Tipos detectados: 6 numéricas, 0 categóricas\n",
      "INFO | Tipos detectados: 6 numéricas, 0 categóricas\n",
      "INFO | Método de correlação sugerido: pearson\n",
      "INFO | Método de correlação sugerido: pearson\n",
      "INFO | Matriz de correlação pearson calculada para 6 variáveis numéricas\n",
      "INFO | Matriz de correlação pearson calculada para 6 variáveis numéricas\n",
      "INFO | Encontrados 0 pares com |corr| > 0.90\n",
      "INFO | Encontrados 0 pares com |corr| > 0.90\n",
      "INFO | Tipos detectados: 6 numéricas, 0 categóricas\n",
      "INFO | Tipos detectados: 6 numéricas, 0 categóricas\n",
      "INFO | Método de correlação sugerido: pearson\n",
      "INFO | Método de correlação sugerido: pearson\n",
      "INFO | Matriz de correlação pearson calculada para 6 variáveis numéricas\n",
      "INFO | Matriz de correlação pearson calculada para 6 variáveis numéricas\n",
      "INFO | Tipos detectados: 6 numéricas, 0 categóricas\n",
      "INFO | Tipos detectados: 6 numéricas, 0 categóricas\n",
      "INFO | VIF calculado para 6 variáveis\n",
      "INFO | VIF calculado para 6 variáveis\n",
      "INFO | Iteração 1: nenhum VIF > 10.00 restante\n",
      "INFO | Iteração 1: nenhum VIF > 10.00 restante\n",
      "INFO | Tipos detectados: 6 numéricas, 0 categóricas\n",
      "INFO | Tipos detectados: 6 numéricas, 0 categóricas\n",
      "INFO | VIF calculado para 6 variáveis\n",
      "INFO | VIF calculado para 6 variáveis\n",
      "INFO | Resumo final de remoções:\n",
      "INFO | Resumo final de remoções:\n",
      "INFO | Método | Variáveis removidas | Total\n",
      "INFO | Método | Variáveis removidas | Total\n",
      "INFO | corr   | [] | 0\n",
      "INFO | corr   | [] | 0\n",
      "INFO | vif    | [] | 0\n",
      "INFO | vif    | [] | 0\n"
     ]
    },
    {
     "name": "stdout",
     "output_type": "stream",
     "text": [
      "Removidas: []\n"
     ]
    }
   ],
   "source": [
    "df_clean, dropped, corr_final, vif_final = vs.clean(\n",
    "    df,\n",
    "    target_col='ever90m12',\n",
    "    date_col=['AnoMesReferencia'],\n",
    "    verbose='basic'\n",
    ")\n",
    "print('Removidas:', dropped)"
   ]
  },
  {
   "cell_type": "code",
   "execution_count": 8,
   "id": "ebaddd8e",
   "metadata": {},
   "outputs": [],
   "source": [
    "logger.setLevel(logging.WARNING)\n",
    "# Executar novamente sem logs detalhados\n",
    "_ = vs.search_dtypes(df, date_col=['AnoMesReferencia'], verbose='full')"
   ]
  }
 ],
 "metadata": {
  "kernelspec": {
   "display_name": "ENV_STONE",
   "language": "python",
   "name": "python3"
  },
  "language_info": {
   "codemirror_mode": {
    "name": "ipython",
    "version": 3
   },
   "file_extension": ".py",
   "mimetype": "text/x-python",
   "name": "python",
   "nbconvert_exporter": "python",
   "pygments_lexer": "ipython3",
   "version": "3.10.16"
  }
 },
 "nbformat": 4,
 "nbformat_minor": 5
}
