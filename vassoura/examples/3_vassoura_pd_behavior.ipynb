{
 "cells": [
  {
   "cell_type": "markdown",
   "metadata": {},
   "source": [
    "# Exemplo com Vassoura e dataset PD Behavior",
    "\n",
    "Este notebook demonstra como carregar o dataset `pd_behavior_example.parquet`",
    " e aplicar a classe `Vassoura`."
   ]
  },
  {
   "cell_type": "code",
   "execution_count": null,
   "metadata": {},
   "outputs": [],
   "source": [
    "import pandas as pd\n",
    "from vassoura.core import Vassoura\n",
    "import vassoura as vs\n",
    "\n",
    "# Carregar dataset de exemplo\n",
    "df = pd.read_parquet('datasets/pd_behavior_example.parquet')\n",
    "df.head()"
   ]
  },
  {
   "cell_type": "code",
   "execution_count": null,
   "metadata": {},
   "outputs": [],
   "source": [
    "vsess = Vassoura(\n",
    "    df,\n",
    "    target_col='ever90m12',\n",
    "    heuristics=['corr', 'vif'],\n",
    "    thresholds={'corr': 0.9, 'vif': 10},\n",
    ")\n",
    "df_clean = vsess.run()\n",
    "df_clean.head()"
   ]
  },
  {
   "cell_type": "code",
   "execution_count": null,
   "metadata": {},
   "outputs": [],
   "source": [
    "# Gera relat\u00f3rio resumido\n",
    "vsess.generate_report('example_report.html')"
   ]
  }
 ],
 "metadata": {
  "kernelspec": {
   "display_name": "Python 3",
   "language": "python",
   "name": "python3"
  },
  "language_info": {
   "name": "python",
   "version": "3.11"
  }
 },
 "nbformat": 4,
 "nbformat_minor": 5
}
