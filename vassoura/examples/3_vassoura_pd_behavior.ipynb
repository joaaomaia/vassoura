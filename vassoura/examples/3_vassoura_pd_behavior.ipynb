{
 "cells": [
  {
   "cell_type": "markdown",
   "metadata": {},
   "source": [
    "# Exemplo com Vassoura e dataset PD Behavior\n",
    "\n",
    "Este notebook demonstra como carregar o dataset `pd_behavior_example.parquet`\n",
    " e aplicar a classe `Vassoura`."
   ]
  },
  {
   "cell_type": "code",
   "execution_count": null,
   "metadata": {},
   "outputs": [],
   "source": [
    "import pandas as pd\n",
    "from vassoura.core import Vassoura\n",
    "import vassoura as vs\n",
    "from audittrail import AuditTrail\n",
    "\n",
    "pd.set_option('display.max_columns', None)\n",
    "\n",
    "FILE_PATH_1 = '../../../datasets/lending_club/accepted_2007_to_2018Q4.csv'\n",
    "FILE_PATH_2 = '../../datasets/lending_club/rejected_2007_to_2018Q4.csv'"
   ]
  },
  {
   "cell_type": "code",
   "execution_count": null,
   "id": "a96d78ab",
   "metadata": {},
   "outputs": [],
   "source": [
    "# Carregar dataset de exemplo\n",
    "def read_and_clean_csv_mixed_types(path, nrows=None, verbose=True):\n",
    "    \"\"\"\n",
    "    Lê um arquivo CSV, detecta colunas com tipos mistos e aplica conversão automática.\n",
    "    \n",
    "    Parâmetros:\n",
    "    - path: caminho para o arquivo CSV\n",
    "    - nrows: número de linhas a serem lidas (None = todas)\n",
    "    - verbose: se True, imprime colunas com tipos mistos\n",
    "\n",
    "    Retorna:\n",
    "    - DataFrame limpo\n",
    "    - Dicionário com as colunas que tinham tipos mistos\n",
    "    \"\"\"\n",
    "    # Leitura inicial\n",
    "    df = pd.read_csv(path, low_memory=False, nrows=nrows)\n",
    "\n",
    "    # Identificar colunas com tipos mistos\n",
    "    mixed_type_columns = {}\n",
    "    for col in df.columns:\n",
    "        types_in_col = df[col].dropna().apply(type).value_counts()\n",
    "        if len(types_in_col) > 1:\n",
    "            mixed_type_columns[col] = types_in_col\n",
    "            if verbose:\n",
    "                print(f\"\\n[!] Coluna '{col}' tem múltiplos tipos:\")\n",
    "                print(types_in_col)\n",
    "\n",
    "    # Tentativa de padronização\n",
    "    for col in mixed_type_columns:\n",
    "        try:\n",
    "            df[col] = pd.to_numeric(df[col], errors='coerce')\n",
    "            if verbose:\n",
    "                print(f\"[✓] Coluna '{col}' convertida para float.\")\n",
    "        except Exception:\n",
    "            df[col] = df[col].astype(str)\n",
    "            if verbose:\n",
    "                print(f\"[✓] Coluna '{col}' convertida para string.\")\n",
    "\n",
    "    return df, mixed_type_columns\n",
    "\n",
    "df, problemas_1 = read_and_clean_csv_mixed_types(FILE_PATH_1, nrows=10_000)\n",
    "#loans_rejected, problemas_2 = read_and_clean_csv_mixed_types(FILE_PATH_2, nrows=100_000)\n",
    "\n",
    "print(df.shape)\n",
    "display(df.head(3))\n",
    "\n",
    "# print(loans_rejected.shape)\n",
    "# display(loans_rejected.head(3))"
   ]
  },
  {
   "cell_type": "markdown",
   "id": "20d6bcb8",
   "metadata": {},
   "source": [
    "#### Análise de Target"
   ]
  },
  {
   "cell_type": "code",
   "execution_count": null,
   "id": "eef914ff",
   "metadata": {},
   "outputs": [],
   "source": [
    "df['loan_status'].value_counts(dropna=False, normalize=True) * 100"
   ]
  },
  {
   "cell_type": "code",
   "execution_count": null,
   "id": "d5edc481",
   "metadata": {},
   "outputs": [],
   "source": [
    "TARGET = 'target_risco_credito'\n",
    "\n",
    "status_de_risco = [\n",
    "    \"Charged Off\",\n",
    "    \"Default\",\n",
    "    \"Late (31-120 days)\",\n",
    "    #\"Late (16-30 days)\"\n",
    "]\n",
    "df[TARGET] = df[\"loan_status\"].isin(status_de_risco).astype(int)\n",
    "\n",
    "df[TARGET].value_counts(dropna=False, normalize=True) * 100"
   ]
  },
  {
   "cell_type": "markdown",
   "id": "d523755b",
   "metadata": {},
   "source": [
    "### Safras"
   ]
  },
  {
   "cell_type": "code",
   "execution_count": null,
   "id": "ee522cd2",
   "metadata": {},
   "outputs": [],
   "source": [
    "#date_col=['issue_d', 'earliest_cr_line','last_pymnt_d','last_credit_pull_d','next_pymnt_d']\n",
    "\n",
    "temporal_columns = [\n",
    "    \"issue_d\",                      # Data de emissão do empréstimo\n",
    "    \"earliest_cr_line\",             # Primeira linha de crédito do cliente\n",
    "    \"last_pymnt_d\",                 # Último pagamento realizado\n",
    "    \"last_credit_pull_d\",           # Última consulta ao crédito\n",
    "    \"next_pymnt_d\",                 # Próximo pagamento previsto (se aplicável)\n",
    "    #\"last_pymnt_amnt\",             # (associada à data de pagamento)\n",
    "    \"debt_settlement_flag_date\",    # Data em que houve acordo de dívida\n",
    "    \"settlement_date\"               # Data em que o acordo foi fechado\n",
    "]\n",
    "\n",
    "\n",
    "# tratamento para colunas de data\n",
    "for col in temporal_columns:\n",
    "    df[col] = pd.to_datetime(df[col], format=\"%b-%Y\")\n",
    "\n",
    "\n",
    "df[\"safra\"] = df[\"issue_d\"].dt.to_period(\"M\")#.astype(str)  # formato 'YYYY-MM'\n",
    "\n",
    "print(df[\"safra\"].min())\n",
    "print(df[\"safra\"].max())"
   ]
  },
  {
   "cell_type": "markdown",
   "id": "524bf231",
   "metadata": {},
   "source": [
    "### Captura Inicial"
   ]
  },
  {
   "cell_type": "code",
   "execution_count": null,
   "id": "1dadded8",
   "metadata": {},
   "outputs": [],
   "source": [
    "trail = AuditTrail(\n",
    "    track_histograms=True,\n",
    "    track_distributions=True,\n",
    "    enable_logging=True,\n",
    "    auto_detect_types=True,\n",
    "    target_col=TARGET,\n",
    "    default_keys=[\"id\"]\n",
    ")\n",
    "\n",
    "trail.take_snapshot(df, name=\"amostra\")"
   ]
  },
  {
   "cell_type": "code",
   "execution_count": null,
   "id": "6d3bc09e",
   "metadata": {},
   "outputs": [],
   "source": [
    "trail.describe_snapshot(\"amostra\")"
   ]
  },
  {
   "cell_type": "markdown",
   "id": "1c304996",
   "metadata": {},
   "source": [
    "#### Limpeza com Vassoura"
   ]
  },
  {
   "cell_type": "code",
   "execution_count": null,
   "id": "ad077280",
   "metadata": {},
   "outputs": [],
   "source": [
    "assert set(df[TARGET].dropna().unique()) == {0, 1}, \"TARGET não é binário!\""
   ]
  },
  {
   "cell_type": "code",
   "execution_count": 9,
   "id": "c4a132a8",
   "metadata": {},
   "outputs": [
    {
     "name": "stderr",
     "output_type": "stream",
     "text": [
      "INFO | Tipos detectados: 44 numéricas, 10 categóricas\n",
      "INFO | Método de correlação sugerido: spearman\n",
      "INFO | Método spearman não suportado por engine 'polars'; utilizando pandas.\n",
      "INFO | Matriz de correlação spearman calculada para 44 variáveis numéricas (engine=pandas)\n"
     ]
    },
    {
     "name": "stdout",
     "output_type": "stream",
     "text": [
      "  → dropped ['bc_util'] (corr>0.85)\n",
      "  → dropped ['mths_since_rcnt_il'] (corr>0.85)\n"
     ]
    },
    {
     "name": "stderr",
     "output_type": "stream",
     "text": [
      "INFO | Tipos detectados: 42 numéricas, 10 categóricas\n",
      "INFO | Método de correlação sugerido: spearman\n",
      "INFO | Método spearman não suportado por engine 'polars'; utilizando pandas.\n",
      "INFO | Matriz de correlação spearman calculada para 42 variáveis numéricas (engine=pandas)\n"
     ]
    },
    {
     "name": "stdout",
     "output_type": "stream",
     "text": [
      "[Vassoura] VIF heuristic (thr=5) vif_n_steps=2\n"
     ]
    },
    {
     "name": "stderr",
     "output_type": "stream",
     "text": [
      "INFO | Tipos detectados: 42 numéricas, 10 categóricas\n",
      "INFO | Desconsiderando 2211 linha(s) com NaN/inf para cálculo de VIF\n",
      "INFO | VIF calculado para 42 variáveis\n"
     ]
    },
    {
     "name": "stdout",
     "output_type": "stream",
     "text": [
      "  → dropped ['num_sats'] (vif>5)\n",
      "  → dropped ['acc_open_past_24mths'] (vif>5)\n",
      "  → dropped ['num_op_rev_tl'] (vif>5)\n",
      "  → dropped ['num_tl_op_past_12m'] (vif>5)\n",
      "  → dropped ['open_rv_24m'] (vif>5)\n",
      "  → dropped ['fico_range_high'] (vif>5)\n",
      "  → dropped ['open_rv_12m'] (vif>5)\n",
      "  → dropped ['open_il_24m'] (vif>5)\n",
      "  → dropped ['all_util'] (vif>5)\n",
      "  → dropped ['open_act_il'] (vif>5)\n",
      "  → dropped ['last_fico_range_low'] (vif>5)\n",
      "  → dropped ['open_il_12m'] (vif>5)\n",
      "  → dropped ['il_util'] (vif>5)\n",
      "  → dropped ['total_bc_limit'] (vif>5)\n"
     ]
    },
    {
     "name": "stderr",
     "output_type": "stream",
     "text": [
      "INFO | Tipos detectados: 28 numéricas, 10 categóricas\n",
      "INFO | Desconsiderando 1360 linha(s) com NaN/inf para cálculo de VIF\n",
      "INFO | VIF calculado para 28 variáveis\n"
     ]
    },
    {
     "name": "stdout",
     "output_type": "stream",
     "text": [
      "  → dropped ['total_rec_prncp'] (vif>5)\n",
      "  → dropped ['installment'] (vif>5)\n",
      "  → dropped ['int_rate'] (vif>5)\n",
      "  → dropped ['revol_util'] (vif>5)\n",
      "  → dropped ['total_rec_int'] (vif>5)\n"
     ]
    },
    {
     "name": "stderr",
     "output_type": "stream",
     "text": [
      "INFO | Tipos detectados: 23 numéricas, 10 categóricas\n",
      "INFO | Desconsiderando 1358 linha(s) com NaN/inf para cálculo de VIF\n",
      "INFO | VIF calculado para 23 variáveis\n"
     ]
    },
    {
     "name": "stdout",
     "output_type": "stream",
     "text": [
      "  → dropped ['mo_sin_old_il_acct'] (vif>5)\n",
      "  → dropped ['mo_sin_old_rev_tl_op'] (vif>5)\n"
     ]
    },
    {
     "name": "stderr",
     "output_type": "stream",
     "text": [
      "INFO | Tipos detectados: 21 numéricas, 10 categóricas\n",
      "INFO | Desconsiderando 1170 linha(s) com NaN/inf para cálculo de VIF\n",
      "INFO | VIF calculado para 21 variáveis\n"
     ]
    },
    {
     "name": "stdout",
     "output_type": "stream",
     "text": [
      "  → dropped ['annual_inc'] (vif>5)\n"
     ]
    },
    {
     "name": "stderr",
     "output_type": "stream",
     "text": [
      "INFO | Tipos detectados: 20 numéricas, 10 categóricas\n",
      "INFO | Desconsiderando 1170 linha(s) com NaN/inf para cálculo de VIF\n",
      "INFO | VIF calculado para 20 variáveis\n"
     ]
    },
    {
     "name": "stdout",
     "output_type": "stream",
     "text": [
      "  → dropped ['num_rev_tl_bal_gt_0'] (vif>5)\n"
     ]
    },
    {
     "name": "stderr",
     "output_type": "stream",
     "text": [
      "INFO | Tipos detectados: 19 numéricas, 10 categóricas\n",
      "INFO | Desconsiderando 1170 linha(s) com NaN/inf para cálculo de VIF\n",
      "INFO | VIF calculado para 19 variáveis\n",
      "INFO | Tipos detectados: 17 numéricas, 8 categóricas\n",
      "INFO | Método de correlação sugerido: spearman\n",
      "INFO | Método spearman não suportado por engine 'polars'; utilizando pandas.\n",
      "INFO | Matriz de correlação spearman calculada para 17 variáveis numéricas (engine=pandas)\n"
     ]
    },
    {
     "name": "stdout",
     "output_type": "stream",
     "text": [
      "  → dropped ['emp_title', 'emp_length', 'zip_code', 'addr_state', 'revol_bal', 'total_bal_il'] (ks<0.05)\n"
     ]
    }
   ],
   "source": [
    "vs = Vassoura(\n",
    "    df,\n",
    "    id_cols = ['id','member_id'],\n",
    "    date_cols=['safra'],\n",
    "    ignore_cols=['url']+temporal_columns,\n",
    "    drop_ignored=True,\n",
    "    target_col=TARGET,\n",
    "    verbose='basic',\n",
    "    \n",
    "    engine='polars',\n",
    "    \n",
    "    adaptive_sampling=True,\n",
    "\n",
    "    heuristics=[\n",
    "        'missing',\n",
    "        'variance',\n",
    "        \"iv\",\n",
    "        \"graph_cut\",\n",
    "        \"corr\",\n",
    "        \"vif\",\n",
    "        'ks_separation',\n",
    "        #\"psi_stability\",\n",
    "        #\"perm_importance_lgbm\",\n",
    "        #\"partial_corr_cluster\",\n",
    "        #\"drift_vs_target_leakage\",\n",
    "    ],\n",
    "    \n",
    "    thresholds={\n",
    "        \"missing\": 0.60,\n",
    "        \"corr\": 0.85,\n",
    "        \"vif\": 5,\n",
    "        \"iv\": 0.01,\n",
    "        \"graph_cut\": 0.9,\n",
    "    },\n",
    "    n_steps=2,         # controla quantas remoções por iteração\n",
    "    vif_n_steps=2      # VIF será sempre 1-step (a menos que você altere)\n",
    ")\n",
    "\n",
    "df_limpo = vs.run(recompute=True)"
   ]
  },
  {
   "cell_type": "code",
   "execution_count": 10,
   "id": "9939be24",
   "metadata": {},
   "outputs": [
    {
     "data": {
      "text/html": [
       "<div>\n",
       "<style scoped>\n",
       "    .dataframe tbody tr th:only-of-type {\n",
       "        vertical-align: middle;\n",
       "    }\n",
       "\n",
       "    .dataframe tbody tr th {\n",
       "        vertical-align: top;\n",
       "    }\n",
       "\n",
       "    .dataframe thead th {\n",
       "        text-align: right;\n",
       "    }\n",
       "</style>\n",
       "<table border=\"1\" class=\"dataframe\">\n",
       "  <thead>\n",
       "    <tr style=\"text-align: center;\">\n",
       "      <th></th>\n",
       "      <th>id</th>\n",
       "      <th>member_id</th>\n",
       "      <th>safra</th>\n",
       "      <th>target_risco_credito</th>\n",
       "      <th>term</th>\n",
       "      <th>grade</th>\n",
       "      <th>sub_grade</th>\n",
       "      <th>home_ownership</th>\n",
       "      <th>verification_status</th>\n",
       "      <th>loan_status</th>\n",
       "      <th>purpose</th>\n",
       "      <th>title</th>\n",
       "      <th>dti</th>\n",
       "      <th>inq_last_6mths</th>\n",
       "      <th>out_prncp_inv</th>\n",
       "      <th>collection_recovery_fee</th>\n",
       "      <th>last_pymnt_amnt</th>\n",
       "      <th>open_acc_6m</th>\n",
       "      <th>max_bal_bc</th>\n",
       "      <th>inq_fi</th>\n",
       "      <th>inq_last_12m</th>\n",
       "      <th>avg_cur_bal</th>\n",
       "      <th>bc_open_to_buy</th>\n",
       "      <th>mo_sin_rcnt_rev_tl_op</th>\n",
       "      <th>mo_sin_rcnt_tl</th>\n",
       "      <th>mort_acc</th>\n",
       "      <th>mths_since_recent_bc</th>\n",
       "      <th>mths_since_recent_inq</th>\n",
       "      <th>percent_bc_gt_75</th>\n",
       "    </tr>\n",
       "  </thead>\n",
       "  <tbody>\n",
       "    <tr>\n",
       "      <th>0</th>\n",
       "      <td>361774</td>\n",
       "      <td>NaN</td>\n",
       "      <td>2015-12</td>\n",
       "      <td>0</td>\n",
       "      <td>36 months</td>\n",
       "      <td>B</td>\n",
       "      <td>B1</td>\n",
       "      <td>MORTGAGE</td>\n",
       "      <td>Not Verified</td>\n",
       "      <td>Fully Paid</td>\n",
       "      <td>debt_consolidation</td>\n",
       "      <td>Debt consolidation</td>\n",
       "      <td>5.10</td>\n",
       "      <td>0.0</td>\n",
       "      <td>0.0</td>\n",
       "      <td>0.0</td>\n",
       "      <td>586.68</td>\n",
       "      <td>1.0</td>\n",
       "      <td>5634.0</td>\n",
       "      <td>0.0</td>\n",
       "      <td>2.0</td>\n",
       "      <td>49598.0</td>\n",
       "      <td>832.0</td>\n",
       "      <td>52.0</td>\n",
       "      <td>3.0</td>\n",
       "      <td>4.0</td>\n",
       "      <td>52.0</td>\n",
       "      <td>3.0</td>\n",
       "      <td>66.7</td>\n",
       "    </tr>\n",
       "    <tr>\n",
       "      <th>1</th>\n",
       "      <td>577926</td>\n",
       "      <td>NaN</td>\n",
       "      <td>2015-12</td>\n",
       "      <td>0</td>\n",
       "      <td>36 months</td>\n",
       "      <td>E</td>\n",
       "      <td>E3</td>\n",
       "      <td>RENT</td>\n",
       "      <td>Source Verified</td>\n",
       "      <td>Fully Paid</td>\n",
       "      <td>home_improvement</td>\n",
       "      <td>Home improvement</td>\n",
       "      <td>32.12</td>\n",
       "      <td>2.0</td>\n",
       "      <td>0.0</td>\n",
       "      <td>0.0</td>\n",
       "      <td>5620.34</td>\n",
       "      <td>4.0</td>\n",
       "      <td>2183.0</td>\n",
       "      <td>3.0</td>\n",
       "      <td>5.0</td>\n",
       "      <td>3031.0</td>\n",
       "      <td>7405.0</td>\n",
       "      <td>4.0</td>\n",
       "      <td>4.0</td>\n",
       "      <td>0.0</td>\n",
       "      <td>17.0</td>\n",
       "      <td>4.0</td>\n",
       "      <td>0.0</td>\n",
       "    </tr>\n",
       "    <tr>\n",
       "      <th>2</th>\n",
       "      <td>699575</td>\n",
       "      <td>NaN</td>\n",
       "      <td>2015-12</td>\n",
       "      <td>0</td>\n",
       "      <td>36 months</td>\n",
       "      <td>C</td>\n",
       "      <td>C2</td>\n",
       "      <td>MORTGAGE</td>\n",
       "      <td>Not Verified</td>\n",
       "      <td>Fully Paid</td>\n",
       "      <td>debt_consolidation</td>\n",
       "      <td>Debt consolidation</td>\n",
       "      <td>13.12</td>\n",
       "      <td>0.0</td>\n",
       "      <td>0.0</td>\n",
       "      <td>0.0</td>\n",
       "      <td>19906.26</td>\n",
       "      <td>2.0</td>\n",
       "      <td>5826.0</td>\n",
       "      <td>9.0</td>\n",
       "      <td>15.0</td>\n",
       "      <td>11551.0</td>\n",
       "      <td>35864.0</td>\n",
       "      <td>4.0</td>\n",
       "      <td>4.0</td>\n",
       "      <td>1.0</td>\n",
       "      <td>4.0</td>\n",
       "      <td>0.0</td>\n",
       "      <td>0.0</td>\n",
       "    </tr>\n",
       "    <tr>\n",
       "      <th>3</th>\n",
       "      <td>811529</td>\n",
       "      <td>NaN</td>\n",
       "      <td>2015-12</td>\n",
       "      <td>0</td>\n",
       "      <td>36 months</td>\n",
       "      <td>A</td>\n",
       "      <td>A4</td>\n",
       "      <td>RENT</td>\n",
       "      <td>Not Verified</td>\n",
       "      <td>Fully Paid</td>\n",
       "      <td>credit_card</td>\n",
       "      <td>Credit card refinancing</td>\n",
       "      <td>7.98</td>\n",
       "      <td>0.0</td>\n",
       "      <td>0.0</td>\n",
       "      <td>0.0</td>\n",
       "      <td>1553.29</td>\n",
       "      <td>2.0</td>\n",
       "      <td>3051.0</td>\n",
       "      <td>0.0</td>\n",
       "      <td>1.0</td>\n",
       "      <td>3085.0</td>\n",
       "      <td>38769.0</td>\n",
       "      <td>4.0</td>\n",
       "      <td>4.0</td>\n",
       "      <td>0.0</td>\n",
       "      <td>4.0</td>\n",
       "      <td>9.0</td>\n",
       "      <td>0.0</td>\n",
       "    </tr>\n",
       "    <tr>\n",
       "      <th>4</th>\n",
       "      <td>849795</td>\n",
       "      <td>NaN</td>\n",
       "      <td>2015-12</td>\n",
       "      <td>0</td>\n",
       "      <td>36 months</td>\n",
       "      <td>A</td>\n",
       "      <td>A2</td>\n",
       "      <td>MORTGAGE</td>\n",
       "      <td>Source Verified</td>\n",
       "      <td>Fully Paid</td>\n",
       "      <td>credit_card</td>\n",
       "      <td>Credit card refinancing</td>\n",
       "      <td>8.36</td>\n",
       "      <td>0.0</td>\n",
       "      <td>0.0</td>\n",
       "      <td>0.0</td>\n",
       "      <td>11496.70</td>\n",
       "      <td>0.0</td>\n",
       "      <td>2742.0</td>\n",
       "      <td>2.0</td>\n",
       "      <td>1.0</td>\n",
       "      <td>99056.0</td>\n",
       "      <td>58.0</td>\n",
       "      <td>19.0</td>\n",
       "      <td>19.0</td>\n",
       "      <td>4.0</td>\n",
       "      <td>19.0</td>\n",
       "      <td>6.0</td>\n",
       "      <td>100.0</td>\n",
       "    </tr>\n",
       "  </tbody>\n",
       "</table>\n",
       "</div>"
      ],
      "text/plain": [
       "     id    member_id  safra    target_risco_credito     term    grade sub_grade home_ownership verification_status loan_status       purpose                title             dti   inq_last_6mths  out_prncp_inv  collection_recovery_fee  last_pymnt_amnt  open_acc_6m  max_bal_bc  inq_fi  inq_last_12m  avg_cur_bal  bc_open_to_buy  mo_sin_rcnt_rev_tl_op  mo_sin_rcnt_tl  mort_acc  mths_since_recent_bc  mths_since_recent_inq  percent_bc_gt_75\n",
       "0  361774    NaN      2015-12            0            36 months    B      B1       MORTGAGE          Not Verified   Fully Paid  debt_consolidation       Debt consolidation   5.10        0.0            0.0                 0.0                 586.68          1.0        5634.0      0.0        2.0        49598.0          832.0             52.0                 3.0          4.0            52.0                   3.0                  66.7     \n",
       "1  577926    NaN      2015-12            0            36 months    E      E3           RENT       Source Verified   Fully Paid    home_improvement         Home improvement  32.12        2.0            0.0                 0.0                5620.34          4.0        2183.0      3.0        5.0         3031.0         7405.0              4.0                 4.0          0.0            17.0                   4.0                   0.0     \n",
       "2  699575    NaN      2015-12            0            36 months    C      C2       MORTGAGE          Not Verified   Fully Paid  debt_consolidation       Debt consolidation  13.12        0.0            0.0                 0.0               19906.26          2.0        5826.0      9.0       15.0        11551.0        35864.0              4.0                 4.0          1.0             4.0                   0.0                   0.0     \n",
       "3  811529    NaN      2015-12            0            36 months    A      A4           RENT          Not Verified   Fully Paid         credit_card  Credit card refinancing   7.98        0.0            0.0                 0.0                1553.29          2.0        3051.0      0.0        1.0         3085.0        38769.0              4.0                 4.0          0.0             4.0                   9.0                   0.0     \n",
       "4  849795    NaN      2015-12            0            36 months    A      A2       MORTGAGE       Source Verified   Fully Paid         credit_card  Credit card refinancing   8.36        0.0            0.0                 0.0               11496.70          0.0        2742.0      2.0        1.0        99056.0           58.0             19.0                19.0          4.0            19.0                   6.0                 100.0     "
      ]
     },
     "execution_count": 10,
     "metadata": {},
     "output_type": "execute_result"
    }
   ],
   "source": [
    "df_limpo.head()"
   ]
  },
  {
   "cell_type": "code",
   "execution_count": 11,
   "id": "fe975b69",
   "metadata": {},
   "outputs": [
    {
     "name": "stderr",
     "output_type": "stream",
     "text": [
      "INFO | Tipos detectados: 115 numéricas, 27 categóricas\n",
      "Exception in thread Thread-58 (_readerthread):\n",
      "Traceback (most recent call last):\n",
      "  File \"c:\\Users\\JM\\AppData\\Local\\anaconda3\\envs\\ENV_STONE\\lib\\threading.py\", line 1016, in _bootstrap_inner\n",
      "    self.run()\n",
      "  File \"c:\\Users\\JM\\AppData\\Local\\anaconda3\\envs\\ENV_STONE\\lib\\site-packages\\ipykernel\\ipkernel.py\", line 766, in run_closure\n",
      "    _threading_Thread_run(self)\n",
      "  File \"c:\\Users\\JM\\AppData\\Local\\anaconda3\\envs\\ENV_STONE\\lib\\threading.py\", line 953, in run\n",
      "    self._target(*self._args, **self._kwargs)\n",
      "  File \"c:\\Users\\JM\\AppData\\Local\\anaconda3\\envs\\ENV_STONE\\lib\\subprocess.py\", line 1515, in _readerthread\n",
      "    buffer.append(fh.read())\n",
      "  File \"c:\\Users\\JM\\AppData\\Local\\anaconda3\\envs\\ENV_STONE\\lib\\codecs.py\", line 322, in decode\n",
      "    (result, consumed) = self._buffer_decode(data, self.errors, final)\n",
      "UnicodeDecodeError: 'utf-8' codec can't decode byte 0x87 in position 103: invalid start byte\n",
      "INFO | Relatório gerado em ..\\reports\\vassoura_report.html\n"
     ]
    },
    {
     "data": {
      "text/plain": [
       "'..\\\\reports\\\\vassoura_report.html'"
      ]
     },
     "execution_count": 11,
     "metadata": {},
     "output_type": "execute_result"
    }
   ],
   "source": [
    "vs.generate_report(\"../reports/vassoura_report.html\")"
   ]
  }
 ],
 "metadata": {
  "kernelspec": {
   "display_name": "ENV_STONE",
   "language": "python",
   "name": "python3"
  },
  "language_info": {
   "codemirror_mode": {
    "name": "ipython",
    "version": 3
   },
   "file_extension": ".py",
   "mimetype": "text/x-python",
   "name": "python",
   "nbconvert_exporter": "python",
   "pygments_lexer": "ipython3",
   "version": "3.10.16"
  }
 },
 "nbformat": 4,
 "nbformat_minor": 5
}
