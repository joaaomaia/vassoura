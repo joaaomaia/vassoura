{
 "cells": [
  {
   "cell_type": "markdown",
   "metadata": {},
   "source": [
    "# Exemplo com Vassoura e dataset PD Behavior\n",
    "\n",
    "Este notebook demonstra como carregar o dataset `pd_behavior_example.parquet`\n",
    " e aplicar a classe `Vassoura`."
   ]
  },
  {
   "cell_type": "code",
   "execution_count": null,
   "id": "9d90d65a",
   "metadata": {},
   "outputs": [],
   "source": [
    "import pandas as pd\n",
    "from vassoura.core import Vassoura\n",
    "import vassoura as vs\n",
    "from audittrail import AuditTrail\n",
    "\n",
    "pd.set_option('display.max_columns', None)\n",
    "\n",
    "FILE_PATH_1 = '../../../datasets/lending_club/accepted_2007_to_2018Q4.csv'\n",
    "FILE_PATH_2 = '../../datasets/lending_club/rejected_2007_to_2018Q4.csv'"
   ]
  },
  {
   "cell_type": "code",
   "execution_count": null,
   "id": "a96d78ab",
   "metadata": {},
   "outputs": [],
   "source": [
    "# Carregar dataset de exemplo\n",
    "def read_and_clean_csv_mixed_types(path, nrows=None, verbose=True):\n",
    "    \"\"\"\n",
    "    Lê um arquivo CSV, detecta colunas com tipos mistos e aplica conversão automática.\n",
    "    \n",
    "    Parâmetros:\n",
    "    - path: caminho para o arquivo CSV\n",
    "    - nrows: número de linhas a serem lidas (None = todas)\n",
    "    - verbose: se True, imprime colunas com tipos mistos\n",
    "\n",
    "    Retorna:\n",
    "    - DataFrame limpo\n",
    "    - Dicionário com as colunas que tinham tipos mistos\n",
    "    \"\"\"\n",
    "    # Leitura inicial\n",
    "    df = pd.read_csv(path, low_memory=False, nrows=nrows)\n",
    "\n",
    "    # Identificar colunas com tipos mistos\n",
    "    mixed_type_columns = {}\n",
    "    for col in df.columns:\n",
    "        types_in_col = df[col].dropna().apply(type).value_counts()\n",
    "        if len(types_in_col) > 1:\n",
    "            mixed_type_columns[col] = types_in_col\n",
    "            if verbose:\n",
    "                print(f\"\\n[!] Coluna '{col}' tem múltiplos tipos:\")\n",
    "                print(types_in_col)\n",
    "\n",
    "    # Tentativa de padronização\n",
    "    for col in mixed_type_columns:\n",
    "        try:\n",
    "            df[col] = pd.to_numeric(df[col], errors='coerce')\n",
    "            if verbose:\n",
    "                print(f\"[✓] Coluna '{col}' convertida para float.\")\n",
    "        except Exception:\n",
    "            df[col] = df[col].astype(str)\n",
    "            if verbose:\n",
    "                print(f\"[✓] Coluna '{col}' convertida para string.\")\n",
    "\n",
    "    return df, mixed_type_columns\n",
    "\n",
    "df, problemas_1 = read_and_clean_csv_mixed_types(FILE_PATH_1, nrows=1_000)\n",
    "#loans_rejected, problemas_2 = read_and_clean_csv_mixed_types(FILE_PATH_2, nrows=100_000)\n",
    "\n",
    "print(df.shape)\n",
    "display(df.head(3))\n",
    "\n",
    "# print(loans_rejected.shape)\n",
    "# display(loans_rejected.head(3))"
   ]
  },
  {
   "cell_type": "markdown",
   "id": "20d6bcb8",
   "metadata": {},
   "source": [
    "#### Análise de Target"
   ]
  },
  {
   "cell_type": "code",
   "execution_count": null,
   "id": "eef914ff",
   "metadata": {},
   "outputs": [],
   "source": [
    "df['loan_status'].value_counts(dropna=False, normalize=True) * 100"
   ]
  },
  {
   "cell_type": "code",
   "execution_count": null,
   "id": "d5edc481",
   "metadata": {},
   "outputs": [],
   "source": [
    "TARGET = 'target_risco_credito'\n",
    "\n",
    "status_de_risco = [\n",
    "    \"Charged Off\",\n",
    "    \"Default\",\n",
    "    \"Late (31-120 days)\",\n",
    "    #\"Late (16-30 days)\"\n",
    "]\n",
    "df[TARGET] = df[\"loan_status\"].isin(status_de_risco).astype(int)\n",
    "\n",
    "df[TARGET].value_counts(dropna=False, normalize=True) * 100"
   ]
  },
  {
   "cell_type": "markdown",
   "id": "d523755b",
   "metadata": {},
   "source": [
    "### Safras"
   ]
  },
  {
   "cell_type": "code",
   "execution_count": null,
   "id": "ee522cd2",
   "metadata": {},
   "outputs": [],
   "source": [
    "#date_col=['issue_d', 'earliest_cr_line','last_pymnt_d','last_credit_pull_d','next_pymnt_d']\n",
    "\n",
    "temporal_columns = [\n",
    "    \"issue_d\",                      # Data de emissão do empréstimo\n",
    "    \"earliest_cr_line\",             # Primeira linha de crédito do cliente\n",
    "    \"last_pymnt_d\",                 # Último pagamento realizado\n",
    "    \"last_credit_pull_d\",           # Última consulta ao crédito\n",
    "    \"next_pymnt_d\",                 # Próximo pagamento previsto (se aplicável)\n",
    "    #\"last_pymnt_amnt\",             # (associada à data de pagamento)\n",
    "    \"debt_settlement_flag_date\",    # Data em que houve acordo de dívida\n",
    "    \"settlement_date\"               # Data em que o acordo foi fechado\n",
    "]\n",
    "\n",
    "\n",
    "# tratamento para colunas de data\n",
    "for col in temporal_columns:\n",
    "    df[col] = pd.to_datetime(df[col], format=\"%b-%Y\")\n",
    "\n",
    "\n",
    "df[\"safra\"] = df[\"issue_d\"].dt.to_period(\"M\")#.astype(str)  # formato 'YYYY-MM'\n",
    "\n",
    "print(df[\"safra\"].min())\n",
    "print(df[\"safra\"].max())"
   ]
  },
  {
   "cell_type": "markdown",
   "id": "524bf231",
   "metadata": {},
   "source": [
    "### Captura Inicial"
   ]
  },
  {
   "cell_type": "code",
   "execution_count": null,
   "id": "1dadded8",
   "metadata": {},
   "outputs": [],
   "source": [
    "trail = AuditTrail(\n",
    "    track_histograms=True,\n",
    "    track_distributions=True,\n",
    "    enable_logging=True,\n",
    "    auto_detect_types=True,\n",
    "    target_col=TARGET,\n",
    "    default_keys=[\"id\"]\n",
    ")\n",
    "\n",
    "#trail.take_snapshot(df, name=\"amostra\")"
   ]
  },
  {
   "cell_type": "code",
   "execution_count": null,
   "id": "6d3bc09e",
   "metadata": {},
   "outputs": [],
   "source": [
    "#trail.describe_snapshot(\"amostra\")"
   ]
  },
  {
   "cell_type": "markdown",
   "id": "1c304996",
   "metadata": {},
   "source": [
    "#### Limpeza com Vassoura"
   ]
  },
  {
   "cell_type": "code",
   "execution_count": null,
   "id": "ad077280",
   "metadata": {},
   "outputs": [],
   "source": [
    "assert set(df[TARGET].dropna().unique()) == {0, 1}, \"TARGET não é binário!\""
   ]
  },
  {
   "cell_type": "code",
   "execution_count": null,
   "id": "c4a132a8",
   "metadata": {},
   "outputs": [],
   "source": [
    "# futuramente podemos pensar no Vassoura como um orquestrador, fazendo diferentes tipos de limpeza para a mesma heuristica\n",
    "# assim: uma limpeza de correlação no início, um pouco mais \n",
    "\n",
    "vs = Vassoura(\n",
    "    df,\n",
    "    id_cols = ['id','member_id'],\n",
    "    date_cols=['safra'],\n",
    "    ignore_cols=['url']+temporal_columns,\n",
    "    drop_ignored=True,\n",
    "    target_col=TARGET,\n",
    "    verbose='basic',\n",
    "    engine='pandas',\n",
    "    \n",
    "    adaptive_sampling=True,\n",
    "\n",
    "    process=[\n",
    "        'missing',\n",
    "        'variance',\n",
    "        'scaler'\n",
    "    ],\n",
    "\n",
    "    heuristics=[\n",
    "        \"iv\",\n",
    "        \"graph_cut\",\n",
    "        \"corr\",\n",
    "        \"vif\",\n",
    "        'importance',\n",
    "        'ks_separation',\n",
    "\n",
    "        # corrigir implementação das heuristicas abaixo\n",
    "        #\"psi_stability\",\n",
    "        #\"perm_importance_lgbm\",\n",
    "        #\"partial_corr_cluster\",\n",
    "        #\"drift_vs_target_leakage\",\n",
    "    ],\n",
    "    \n",
    "    params={\n",
    "        \"missing\": 0.60,\n",
    "        \"corr\": 0.85,\n",
    "        \"vif\": 10,\n",
    "        \"iv\": 0.01,\n",
    "        \"graph_cut\": 0.9,\n",
    "    },\n",
    "    n_steps=2,         # controla quantas remoções por iteração\n",
    "    vif_n_steps=2      # VIF será sempre 1-step (a menos que você altere)\n",
    ")\n",
    "\n",
    "df_limpo = vs.run(recompute=True)"
   ]
  },
  {
   "cell_type": "code",
   "execution_count": null,
   "id": "9939be24",
   "metadata": {},
   "outputs": [],
   "source": [
    "print(df_limpo.shape)\n",
    "df_limpo.head()"
   ]
  },
  {
   "cell_type": "code",
   "execution_count": null,
   "id": "fe975b69",
   "metadata": {},
   "outputs": [],
   "source": [
    "vs.generate_report(\"../reports/vassoura_report.html\")"
   ]
  }
 ],
 "metadata": {
  "kernelspec": {
   "display_name": "ENV_STONE",
   "language": "python",
   "name": "python3"
  },
  "language_info": {
   "codemirror_mode": {
    "name": "ipython",
    "version": 3
   },
   "file_extension": ".py",
   "mimetype": "text/x-python",
   "name": "python",
   "nbconvert_exporter": "python",
   "pygments_lexer": "ipython3",
   "version": "3.10.16"
  }
 },
 "nbformat": 4,
 "nbformat_minor": 5
}
